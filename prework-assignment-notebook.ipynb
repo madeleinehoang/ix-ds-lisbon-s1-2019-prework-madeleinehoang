{
 "cells": [
  {
   "cell_type": "markdown",
   "metadata": {},
   "source": [
    "# Prework Assignment"
   ]
  },
  {
   "cell_type": "markdown",
   "metadata": {},
   "source": [
    "### General Background Questions"
   ]
  },
  {
   "cell_type": "markdown",
   "metadata": {},
   "source": [
    "1. Why is version control important in science?"
   ]
  },
  {
   "cell_type": "code",
   "execution_count": 1,
   "metadata": {},
   "outputs": [],
   "source": [
    "# Version control allows multiple people to work asynchronously and merge contributions at any time. It tracks what you are working on and what others are working on so the changes aren’t clashed and overridden, therefore allowing more efficient collaborating work. This is useful in science for facilitating collaboration when there are multiple authors that contribute to manuscript preparations. The research process is often informal and haphazard. So, version control can help to organize the process and back up against possible data loss from the multiple revisions of papers, code, and datasets are saved as duplicate copies with uninformative file names. This back up is useful with lab notebooks – containing detailed useful information over the course of a project. Another aspect of version control that would be important in science is how it allows researchers freedom to explore new ideas and methods. Because each version of a project is saved separately, it is easy to explore alternate ideas in a structured and documented way without disrupting the central flow of a project. If these changes don’t work out, reverting changes back to an earlier commit would still be simple."
   ]
  },
  {
   "cell_type": "markdown",
   "metadata": {},
   "source": [
    "2. What kind of research artifacts can we track with Git?"
   ]
  },
  {
   "cell_type": "code",
   "execution_count": 1,
   "metadata": {},
   "outputs": [],
   "source": [
    "# Git can track data, code used for statistical analyses, and documents. Git cab track them not just separately but also in various combinations for different use cases such as maintaining lab manuscripts and notes, datasets, statistical code and figures, and complete manuscripts.r answer here"
   ]
  },
  {
   "cell_type": "markdown",
   "metadata": {},
   "source": [
    "3. What are the three main things that can go wrong in a data science project?"
   ]
  },
  {
   "cell_type": "code",
   "execution_count": 7,
   "metadata": {},
   "outputs": [],
   "source": [
    "# One of the main things that can go wrong in a data science project is that the data isn’t what you wanted. This is mostly because the assumptions made don’t hold – the data doesn’t actually exist, it isn’t stored in a useful format, or it’s not stored in a place you can access. The second thing is that the model doesn’t work well. This can be because of two reasons – the data does not contain a signal in it, or the signal exists, but the model isn’t right. The third thing is that the problem solved wasn’t right. An example of this can be not fully understanding the customer’s needs, so the model is different than what the customer wanted."
   ]
  },
  {
   "cell_type": "markdown",
   "metadata": {},
   "source": [
    "### Python Background Questions"
   ]
  },
  {
   "cell_type": "markdown",
   "metadata": {},
   "source": [
    "These short exercises are a way to familiarize yourself with python. If you find these exercises too difficult, don’t worry! We will review the basics the first day to make sure we are all comfortable coding in Python.\n",
    "\n",
    "Please save your work in this document and `git push` them to the `prework-assignment` repo.\n",
    "\n",
    "----------------------------------------------------------------"
   ]
  },
  {
   "cell_type": "markdown",
   "metadata": {},
   "source": [
    "### Problem 1: Basic Operations"
   ]
  },
  {
   "cell_type": "markdown",
   "metadata": {},
   "source": [
    "You are at Vanessa's Vegan Cafe and you loved it so much you wanna leave a tip. Write a function that takes the amount owed and calculates how much money you pay with an 18% tip. If functions still scare you, just the solution code will do."
   ]
  },
  {
   "cell_type": "code",
   "execution_count": 6,
   "metadata": {},
   "outputs": [],
   "source": [
    "def tip( n ):\n",
    "    result = n * 1.18\n",
    "    return result"
   ]
  },
  {
   "cell_type": "markdown",
   "metadata": {},
   "source": [
    "----------------------------------------------------------------"
   ]
  },
  {
   "cell_type": "markdown",
   "metadata": {},
   "source": [
    "### Problem 2: Lists"
   ]
  },
  {
   "cell_type": "markdown",
   "metadata": {},
   "source": [
    "I have a fortune cookie that says my lucky numbers are:\n",
    "\n",
    "       [23, 54, 6, 8, 10078, 3]\n",
    "\n",
    "Write a function that returns 3 lists (if functions still scare you, just the solution code will do)\n",
    "   - replace the number 6 with 1\n",
    "   - the above list in decreasing order\n",
    "   - all values greater than 15"
   ]
  },
  {
   "cell_type": "code",
   "execution_count": 1,
   "metadata": {},
   "outputs": [],
   "source": [
    "def list( lucky_numbers ):\n",
    "    list1 = []\n",
    "    for n in lucky_numbers:\n",
    "        if n == 6:\n",
    "            n = 1\n",
    "        list1.append( n )\n",
    "\n",
    "    list2 = sorted( lucky_numbers )\n",
    "    list2.reverse()\n",
    "\n",
    "    list3 = []\n",
    "    for n in lucky_numbers:\n",
    "        if n > 15:\n",
    "            list3.append( n )\n",
    "\n",
    "    return list1, list2, list3"
   ]
  },
  {
   "cell_type": "markdown",
   "metadata": {},
   "source": [
    "----------------------------------------------------------------"
   ]
  },
  {
   "cell_type": "markdown",
   "metadata": {},
   "source": [
    "### Problem 3: Basic Operations"
   ]
  },
  {
   "cell_type": "markdown",
   "metadata": {},
   "source": [
    "Let's now take the first step in coding some real data science. Write a statement that loads the `numpy` library into the interpreter and gives it an alias of `np`."
   ]
  },
  {
   "cell_type": "code",
   "execution_count": 1,
   "metadata": {},
   "outputs": [],
   "source": [
    "import numpy as np"
   ]
  },
  {
   "cell_type": "markdown",
   "metadata": {},
   "source": [
    "----------------------------------------------------------------"
   ]
  },
  {
   "cell_type": "markdown",
   "metadata": {},
   "source": [
    "### Problem 4: Numpy"
   ]
  },
  {
   "cell_type": "markdown",
   "metadata": {},
   "source": [
    "Generated a 10x10 `numpy` array with random numbers and slice the array to get the 2nd and 3rd column. Also calculate the average of 6th column using `numpy`."
   ]
  },
  {
   "cell_type": "code",
   "execution_count": 1,
   "metadata": {},
   "outputs": [],
   "source": [
    "arr = np.random.randint( 0, 10, ( 10, 10) )\n",
    "print( arr )\n",
    "print( \"\" )\n",
    "\n",
    "col2and3 = arr[ :, 1:3 ]\n",
    "print( col2and3 )\n",
    "print( \"\" )\n",
    "\n",
    "col6 = arr[ :, 5 ]\n",
    "ave_col6 = np.mean( col6 )\n",
    "print( ave_col6 )\n"
   ]
  },
  {
   "cell_type": "markdown",
   "metadata": {},
   "source": [
    "----------------------------------------------------------------"
   ]
  },
  {
   "cell_type": "markdown",
   "metadata": {},
   "source": [
    "##### That's it! We look forward to seeing you in class!"
   ]
  }
 ],
 "metadata": {
  "kernelspec": {
   "display_name": "Python 3",
   "language": "python",
   "name": "python3"
  },
  "language_info": {
   "codemirror_mode": {
    "name": "ipython",
    "version": 3
   },
   "file_extension": ".py",
   "mimetype": "text/x-python",
   "name": "python",
   "nbconvert_exporter": "python",
   "pygments_lexer": "ipython3",
   "version": "3.7.2"
  }
 },
 "nbformat": 4,
 "nbformat_minor": 2
}
